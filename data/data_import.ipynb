{
 "cells": [
  {
   "cell_type": "markdown",
   "metadata": {},
   "source": [
    "Set the key and secret so it doesnt get published online"
   ]
  },
  {
   "cell_type": "code",
   "execution_count": null,
   "metadata": {},
   "outputs": [],
   "source": [
    "import getpass\n",
    "\n",
    "api_key = getpass.getpass(prompt='Enter API Key: ')\n",
    "api_secret = getpass.getpass(prompt='Enter API Secret: ')\n",
    "\n"
   ]
  },
  {
   "cell_type": "markdown",
   "metadata": {},
   "source": [
    "Writing the query for the swissdox@LiRi API"
   ]
  },
  {
   "cell_type": "code",
   "execution_count": 17,
   "metadata": {},
   "outputs": [
    {
     "name": "stdout",
     "output_type": "stream",
     "text": [
      "{'result': 'ok', 'message': 'Query successfully submitted', 'queryId': 'f38ca681-8b3b-4d56-9953-6dcb24676fb9'}\n"
     ]
    }
   ],
   "source": [
    "import requests\n",
    "\n",
    "headers = {\n",
    "    \"X-API-Key\": api_key,\n",
    "    \"X-API-Secret\": api_secret,\n",
    "}\n",
    "API_BASE_URL = \"https://swissdox.linguistik.uzh.ch/api\"\n",
    "API_URL_QUERY = f\"{API_BASE_URL}/query\"\n",
    "\n",
    "yaml_example = \"\"\"\n",
    "query:\n",
    "    sources:\n",
    "        - SRF\n",
    "    dates:\n",
    "        - from: 2023-10-07\n",
    "          to: 2024-05-21\n",
    "    languages:\n",
    "        - de\n",
    "    content:\n",
    "        - Hamas\n",
    "        - Gaza\n",
    "        - Palästina\n",
    "        - Israel\n",
    "        - Genozid\n",
    "result:\n",
    "    format: TSV\n",
    "    maxResults: 10000000\n",
    "    columns:\n",
    "        - id\n",
    "        - pubtime\n",
    "        - medium_code\n",
    "        - medium_name\n",
    "        - rubric\n",
    "        - regional\n",
    "        - doctype\n",
    "        - doctype_description\n",
    "        - language\n",
    "        - char_count\n",
    "        - dateline\n",
    "        - head\n",
    "        - subhead\n",
    "        - content_id\n",
    "        - content\n",
    "version: 1.2\n",
    "\"\"\"\n",
    "\n",
    "data = {\n",
    "    \"query\": yaml_example,\n",
    "    \"name\": \"SRF Palestine Conflict\",\n",
    "    \"comment\": \"Every Article containing the words Hamas, Israel, Palestine and Gaza, published by SRF\",\n",
    "    \"expirationDate\": \"2024-12-31\"\n",
    "}\n",
    "\n",
    "r = requests.post(\n",
    "    API_URL_QUERY,\n",
    "    headers=headers,\n",
    "    data=data\n",
    ")\n",
    "print(r.json())\n"
   ]
  },
  {
   "cell_type": "markdown",
   "metadata": {},
   "source": [
    "Check Status to get download URL"
   ]
  },
  {
   "cell_type": "code",
   "execution_count": 19,
   "metadata": {},
   "outputs": [
    {
     "name": "stdout",
     "output_type": "stream",
     "text": [
      "[{'id': 'f38ca681-8b3b-4d56-9953-6dcb24676fb9', 'yaml': 'query:\\n  sources:\\n    - SRF\\n  dates:\\n    - from: 2023-10-07\\n      to: 2024-05-21\\n  languages:\\n    - de\\n  content:\\n    - Hamas\\n    - Gaza\\n    - Palästina\\n    - Israel\\n    - Genozid\\nresult:\\n  format: TSV\\n  maxResults: 10000000\\n  columns:\\n    - id\\n    - pubtime\\n    - medium_code\\n    - medium_name\\n    - rubric\\n    - regional\\n    - doctype\\n    - doctype_description\\n    - language\\n    - char_count\\n    - dateline\\n    - head\\n    - subhead\\n    - content_id\\n    - content\\nversion: 1.2\\n', 'name': 'SRF Palestine Conflict', 'comment': 'Every Article containing the words Hamas, Israel, Palestine and Gaza, published by SRF', 'estimateResults': 1, 'actualResults': 2308, 'addedOn': '2024-05-21T17:54:09.392804', 'canceledOn': None, 'status': 'finished', 'startedOn': '2024-05-21T17:54:09.619570', 'finishedOn': '2024-05-21T17:54:16.870668', 'error': None, 'downloadUrl': 'https://swissdox.linguistik.uzh.ch/api/download/f38ca681-8b3b-4d56-9953-6dcb24676fb9__2024_05_21T17_54_09.tsv.xz', 'isAPI': True}]\n"
     ]
    }
   ],
   "source": [
    "    import requests\n",
    "\n",
    "\n",
    "headers = {\n",
    "    \"X-API-Key\": api_key,\n",
    "    \"X-API-Secret\": api_secret,\n",
    "}\n",
    "     \n",
    "    API_BASE_URL = \"https://swissdox.linguistik.uzh.ch/api\"\n",
    "    API_URL_STATUS = f\"{API_BASE_URL}/status\"\n",
    "     \n",
    "    r = requests.get(\n",
    "        API_URL_STATUS,\n",
    "        headers=headers\n",
    "    )\n",
    "    print(r.json())\n",
    "\n"
   ]
  },
  {
   "cell_type": "markdown",
   "metadata": {},
   "source": [
    "Download query file"
   ]
  },
  {
   "cell_type": "code",
   "execution_count": 20,
   "metadata": {},
   "outputs": [
    {
     "name": "stdout",
     "output_type": "stream",
     "text": [
      "Size of file: 1262.05 KB\n"
     ]
    }
   ],
   "source": [
    "    API_BASE_URL = \"https://swissdox.linguistik.uzh.ch/api\"\n",
    "    API_URL_DOWNLOAD = f\"{API_BASE_URL}/download/f38ca681-8b3b-4d56-9953-6dcb24676fb9__2024_05_21T17_54_09.tsv.xz\"\n",
    "     \n",
    "    r = requests.get(\n",
    "        API_URL_DOWNLOAD,\n",
    "        headers=headers\n",
    "    )\n",
    "    if r.status_code == 200:\n",
    "        print(\"Size of file: %.2f KB\" % (len(r.content)/1024))\n",
    "        fp = open(\"./dataset.tsv.xz\", \"wb\")\n",
    "        fp.write(r.content)\n",
    "        fp.close()\n",
    "    else:\n",
    "        print(r.text)"
   ]
  },
  {
   "cell_type": "markdown",
   "metadata": {},
   "source": [
    "Decompress .xz file to get .tsv"
   ]
  },
  {
   "cell_type": "code",
   "execution_count": 21,
   "metadata": {},
   "outputs": [],
   "source": [
    "import lzma\n",
    "\n",
    "def decompress_xz_file():\n",
    "    xz_file_path = r\"..\\data\\dataset.tsv.xz\"\n",
    "    output_path = r\"..\\data\\dataset.tsv\"\n",
    "    with lzma.open(xz_file_path, 'rb') as compressed_file:\n",
    "        with open(output_path, 'wb') as output_file:\n",
    "            output_file.write(compressed_file.read())\n",
    "\n",
    "# Aufruf der Funktion\n",
    "decompress_xz_file()\n"
   ]
  }
 ],
 "metadata": {
  "kernelspec": {
   "display_name": "base",
   "language": "python",
   "name": "python3"
  },
  "language_info": {
   "codemirror_mode": {
    "name": "ipython",
    "version": 3
   },
   "file_extension": ".py",
   "mimetype": "text/x-python",
   "name": "python",
   "nbconvert_exporter": "python",
   "pygments_lexer": "ipython3",
   "version": "3.11.7"
  }
 },
 "nbformat": 4,
 "nbformat_minor": 2
}
