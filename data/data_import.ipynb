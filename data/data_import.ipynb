{
 "cells": [
  {
   "cell_type": "markdown",
   "metadata": {},
   "source": [
    "Set the key and secret so it doesnt get published online"
   ]
  },
  {
   "cell_type": "code",
   "execution_count": 8,
   "metadata": {},
   "outputs": [],
   "source": [
    "import getpass\n",
    "\n",
    "api_key = getpass.getpass(prompt='Enter API Key: ')\n",
    "api_secret = getpass.getpass(prompt='Enter API Secret: ')\n",
    "\n"
   ]
  },
  {
   "cell_type": "markdown",
   "metadata": {},
   "source": [
    "Writing the query for the swissdox@LiRi API"
   ]
  },
  {
   "cell_type": "code",
   "execution_count": 11,
   "metadata": {},
   "outputs": [
    {
     "name": "stdout",
     "output_type": "stream",
     "text": [
      "{'result': 'ok', 'message': 'Query successfully submitted', 'queryId': '19188f6f-5b52-48bc-b762-6f477aec7d07'}\n"
     ]
    }
   ],
   "source": [
    "import requests\n",
    "\n",
    "headers = {\n",
    "    \"X-API-Key\": api_key,\n",
    "    \"X-API-Secret\": api_secret,\n",
    "}\n",
    "API_BASE_URL = \"https://swissdox.linguistik.uzh.ch/api\"\n",
    "API_URL_QUERY = f\"{API_BASE_URL}/query\"\n",
    "\n",
    "yaml_example = \"\"\"\n",
    "query:\n",
    "    sources:\n",
    "        - SRF\n",
    "    dates:\n",
    "        - from: 2023-10-07\n",
    "          to: 2024-05-17\n",
    "    languages:\n",
    "        - de\n",
    "    content:\n",
    "        - Hamas\n",
    "        - Gaza\n",
    "        - Palästina\n",
    "        - Israel\n",
    "result:\n",
    "    format: TSV\n",
    "    maxResults: 10000000\n",
    "    columns:\n",
    "        - id\n",
    "        - pubtime\n",
    "        - medium_code\n",
    "        - medium_name\n",
    "        - rubric\n",
    "        - regional\n",
    "        - doctype\n",
    "        - doctype_description\n",
    "        - language\n",
    "        - char_count\n",
    "        - dateline\n",
    "        - head\n",
    "        - subhead\n",
    "        - content_id\n",
    "        - content\n",
    "version: 1.2\n",
    "\"\"\"\n",
    "\n",
    "data = {\n",
    "    \"query\": yaml_example,\n",
    "    \"name\": \"SRF Palestine Conflict\",\n",
    "    \"comment\": \"Every Article containing the words Hamas, Israel, Palestine and Gaza, published by SRF\",\n",
    "    \"expirationDate\": \"2024-12-31\"\n",
    "}\n",
    "\n",
    "r = requests.post(\n",
    "    API_URL_QUERY,\n",
    "    headers=headers,\n",
    "    data=data\n",
    ")\n",
    "print(r.json())\n"
   ]
  },
  {
   "cell_type": "markdown",
   "metadata": {},
   "source": [
    "Download query file"
   ]
  },
  {
   "cell_type": "code",
   "execution_count": 16,
   "metadata": {},
   "outputs": [
    {
     "name": "stdout",
     "output_type": "stream",
     "text": [
      "Size of file: 1235.68 KB\n"
     ]
    }
   ],
   "source": [
    "    API_BASE_URL = \"https://swissdox.linguistik.uzh.ch/api\"\n",
    "    API_URL_DOWNLOAD = f\"{API_BASE_URL}/download/19188f6f-5b52-48bc-b762-6f477aec7d07__2024_05_17T21_39_29.tsv.xz\"\n",
    "     \n",
    "    r = requests.get(\n",
    "        API_URL_DOWNLOAD,\n",
    "        headers=headers\n",
    "    )\n",
    "    if r.status_code == 200:\n",
    "        print(\"Size of file: %.2f KB\" % (len(r.content)/1024))\n",
    "        fp = open(\"./dataset.tsv.xz\", \"wb\")\n",
    "        fp.write(r.content)\n",
    "        fp.close()\n",
    "    else:\n",
    "        print(r.text)"
   ]
  }
 ],
 "metadata": {
  "kernelspec": {
   "display_name": "base",
   "language": "python",
   "name": "python3"
  },
  "language_info": {
   "codemirror_mode": {
    "name": "ipython",
    "version": 3
   },
   "file_extension": ".py",
   "mimetype": "text/x-python",
   "name": "python",
   "nbconvert_exporter": "python",
   "pygments_lexer": "ipython3",
   "version": "3.11.7"
  }
 },
 "nbformat": 4,
 "nbformat_minor": 2
}
